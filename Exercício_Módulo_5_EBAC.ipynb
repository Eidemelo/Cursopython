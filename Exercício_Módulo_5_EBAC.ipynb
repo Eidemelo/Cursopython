{
  "cells": [
    {
      "cell_type": "markdown",
      "source": [
        "## Exercício Módulo 5\n",
        "##Calculadora em Python\n",
        "\n",
        "**Objetivo:** Criar uma calculadora em Python que receba dois números do usuário, realize 4 operações matemáticas e apresente os resultados.\n",
        "\n",
        "**Código:**"
      ],
      "metadata": {
        "id": "-nZlmxOICyyy"
      }
    },
    {
      "cell_type": "code",
      "source": [
        "def main():\n",
        "    \"\"\"\n",
        "    Função principal da calculadora.\n",
        "    \"\"\"\n",
        "\n",
        "    # Recebendo os números do usuário\n",
        "    num1 = float(input(\"Digite o primeiro número: \"))\n",
        "    num2 = float(input(\"Digite o segundo número: \"))\n",
        "\n",
        "    # Menu de operações\n",
        "    print(\"\\Escolha a operação desejada:\")\n",
        "    print(\"1. Adição\")\n",
        "    print(\"2. Subtração\")\n",
        "    print(\"3. Multiplicação\")\n",
        "    print(\"4. Divisão\")\n",
        "\n",
        "\n",
        "    # Laço de repetição para realizar operações consecutivas\n",
        "    while True:\n",
        "        try:\n",
        "            opcao = int(input(\"\\Digite sua opção: \"))\n",
        "\n",
        "            if opcao == 0:\n",
        "                print(\"Saindo da calculadora...\")\n",
        "                break\n",
        "\n",
        "            elif opcao in [1, 2, 3, 4 ]:\n",
        "                # Realizando as operações matemáticas\n",
        "                if opcao == 1:\n",
        "                    resultado = num1 + num2\n",
        "                    operacao = \"soma\"\n",
        "                elif opcao == 2:\n",
        "                    resultado = num1 - num2\n",
        "                    operacao = \"subtração\"\n",
        "                elif opcao == 3:\n",
        "                    resultado = num1 * num2\n",
        "                    operacao = \"multiplicação\"\n",
        "                elif opcao == 4:\n",
        "                    resultado = num1 / num2\n",
        "                    operacao = \"divisão\"\n",
        "\n",
        "\n",
        "                # Apresentando o resultado\n",
        "                print(f\"\\Resultado da {operacao}: {resultado}\")\n",
        "\n",
        "            else:\n",
        "                print(\"Opção inválida. Tente novamente.\")\n",
        "\n",
        "        except ValueError:\n",
        "            print(\"Valor inválido. Digite um número.\")\n",
        "\n",
        "if __name__ == \"__main__\":\n",
        "    main()"
      ],
      "outputs": [
        {
          "output_type": "stream",
          "name": "stdout",
          "text": [
            "Digite o primeiro número: 10\n",
            "Digite o segundo número: 10\n",
            "\\Escolha a operação desejada:\n",
            "1. Adição\n",
            "2. Subtração\n",
            "3. Multiplicação\n",
            "4. Divisão\n",
            "\\Digite sua opção: 1\n",
            "\\Resultado da soma: 20.0\n",
            "\\Digite sua opção: 0\n",
            "Saindo da calculadora...\n"
          ]
        }
      ],
      "execution_count": 6,
      "metadata": {
        "colab": {
          "base_uri": "https://localhost:8080/"
        },
        "id": "bAaH0Mw3Cyy3",
        "outputId": "85682668-1430-4e61-8a91-b1579c7b798d"
      }
    }
  ],
  "metadata": {
    "colab": {
      "provenance": []
    },
    "kernelspec": {
      "display_name": "Python 3",
      "name": "python3"
    }
  },
  "nbformat": 4,
  "nbformat_minor": 0
}